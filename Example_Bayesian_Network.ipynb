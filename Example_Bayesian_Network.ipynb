{
 "cells": [
  {
   "cell_type": "code",
   "execution_count": null,
   "id": "2b85a3df",
   "metadata": {},
   "outputs": [],
   "source": [
    "import pandas as pd\n",
    "from collections import Counter"
   ]
  },
  {
   "cell_type": "code",
   "execution_count": null,
   "id": "05d27035",
   "metadata": {},
   "outputs": [],
   "source": [
    "def get_prior(symptom):\n",
    "  prior = None\n",
    "  if symptom == 'S01':\n",
    "    prior = 0.9\n",
    "  elif symptom == 'S02':\n",
    "    prior = 0.8\n",
    "  elif symptom == 'S03':\n",
    "    prior = 0.8\n",
    "  elif symptom == 'S04':\n",
    "    prior = 0.7\n",
    "  elif symptom == 'S05':\n",
    "    prior = 0.6\n",
    "  return prior\n",
    "\n",
    "def get_disease(symptom):\n",
    "  disease = None\n",
    "  if symptom == 'S01':\n",
    "    disease = [('S01', 'D01','D02')]\n",
    "  elif symptom == 'S02':\n",
    "    disease = [('S02', 'D01','D02')]\n",
    "  elif symptom == 'S03':\n",
    "    disease = [('S03','D02')]\n",
    "  elif symptom == 'S04':\n",
    "    disease = [('S04', 'D01')]\n",
    "  elif symptom == 'S05':\n",
    "    disease = [('S05', 'D01','D02')]\n",
    "  return disease\n",
    "\n",
    "\n",
    "def get_disease_name(code_disease):\n",
    "  disease_name = None\n",
    "  if code_disease == 'D01':\n",
    "    disease_name = 'Osteoporosis'\n",
    "  elif code_disease == 'D02':\n",
    "    disease_name = 'Osteoarthritis'\n",
    "  return disease_name"
   ]
  },
  {
   "cell_type": "code",
   "execution_count": null,
   "id": "25f6b1bf",
   "metadata": {},
   "outputs": [],
   "source": [
    "def count_pp(symptom):\n",
    "  df = pd.read_csv('dataset_disease.csv')\n",
    "  return list(df[symptom].value_counts())[1]\n",
    "\n",
    "def count_pa(symptom):\n",
    "  df = pd.read_csv('dataset_disease_2.csv')\n",
    "  return list(df[symptom].value_counts())[1]"
   ]
  },
  {
   "cell_type": "code",
   "execution_count": null,
   "id": "3eda3f31",
   "metadata": {},
   "outputs": [],
   "source": [
    "def main():\n",
    "\n",
    "  input_symptom = 's01 s02'\n",
    "  list_symptom = input_symptom.split()\n",
    "  list_symptom = [symptom.upper() for symptom in list_symptom]\n",
    "  list_disease = []\n",
    "  for symptom in list_symptom:\n",
    "    list_disease.append(get_disease(symptom))\n",
    "\n",
    "  list_disease = [x for xs in list_disease for x in xs]\n",
    "  result = []\n",
    "  for disease in list_disease:\n",
    "    # conditional probability\n",
    "    pp = count_pp(disease[0])/20\n",
    "    pa = count_pa(disease[0])/20\n",
    "\n",
    "    # Joint Probability Distribution\n",
    "    jpd_pp = pp * get_prior(disease[0])\n",
    "    jpd_pa = pa * (1-get_prior(disease[0]))\n",
    "\n",
    "    # posterior\n",
    "    res = jpd_pp/(jpd_pp+jpd_pa)\n",
    "    data = {\n",
    "        'disease': disease[1],\n",
    "        'value': res\n",
    "    }\n",
    "\n",
    "    result.append(data)\n",
    "\n",
    "  # Probabilistic Inference\n",
    "  list_disease = [item[1] for item in list_disease]  \n",
    "  count = dict(Counter(list_disease))\n",
    "  unique = []\n",
    "  spell = []\n",
    "  for item in result:\n",
    "    if item['disease'] not in unique:\n",
    "      unique.append(item['disease'])\n",
    "      spell.append(item)\n",
    "    else:\n",
    "      for index, value in enumerate(spell):\n",
    "        if value['disease'] == item['disease']:\n",
    "          spell[index]['value'] +=item['value']\n",
    "\n",
    "\n",
    "  z = [(item['disease'], item['value']/count[item['disease']]*100) for item in spell]\n",
    "  final = max(z, key=lambda x:x[1])\n",
    "  print(final)"
   ]
  },
  {
   "cell_type": "code",
   "execution_count": null,
   "id": "6547a89f",
   "metadata": {},
   "outputs": [],
   "source": [
    "if __name__ == '__main__':    \n",
    "    main()"
   ]
  }
 ],
 "metadata": {
  "kernelspec": {
   "display_name": "Python 3",
   "language": "python",
   "name": "python3"
  },
  "language_info": {
   "codemirror_mode": {
    "name": "ipython",
    "version": 3
   },
   "file_extension": ".py",
   "mimetype": "text/x-python",
   "name": "python",
   "nbconvert_exporter": "python",
   "pygments_lexer": "ipython3",
   "version": "3.9.7"
  }
 },
 "nbformat": 4,
 "nbformat_minor": 5
}
